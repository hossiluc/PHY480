{
 "cells": [
  {
   "cell_type": "code",
   "execution_count": 1,
   "metadata": {},
   "outputs": [],
   "source": [
    "#Importing the Packages needed\n",
    "\n",
    "from mpl_toolkits import mplot3d\n",
    "import matplotlib.pyplot as plt\n",
    "from IPython.display import display, clear_output\n",
    "import numpy as np\n",
    "import time\n",
    "\n",
    "%matplotlib inline\n"
   ]
  },
  {
   "cell_type": "code",
   "execution_count": 2,
   "metadata": {},
   "outputs": [],
   "source": [
    "class planet():\n",
    "    def __init__ (self,x0,y0,v0x,v0y,m,n_iter,tstep):\n",
    "        self.x=x0\n",
    "        self.y=y0\n",
    "        self.v_x=v0x\n",
    "        self.v_y=v0y\n",
    "        self.mass=m\n",
    "        self.n_iter=n_iter\n",
    "        self.tstep=tstep\n",
    "    \n",
    "    def velocities(self,x0,y0,m,tstep,vx,vy):\n",
    "        r=np.sqrt(x0**2+y0**2)\n",
    "        a=-m/r**2\n",
    "        theta=np.arctan2(y0,x0)\n",
    "        ay=np.sin(theta)*a\n",
    "        ax=np.cos(theta)*a\n",
    "        vy=np.sin(theta)*a*tstep+vy\n",
    "        vx=np.cos(theta)*a*tstep+vx\n",
    "        return vx,vy,theta\n",
    "    \n",
    "    def orbit (self):\n",
    "        x0=self.x\n",
    "        y0=self.y\n",
    "        v0x=self.v_x\n",
    "        v0y=self.v_y\n",
    "        m=self.mass\n",
    "        n_iter=self.n_iter\n",
    "        tstep=self.tstep\n",
    "        \n",
    "        xs=[x0]\n",
    "        ys=[y0]\n",
    "        thetas=[]\n",
    "        for i in range (0,n_iter):\n",
    "            v0x,v0y,theta=self.velocities(x0,y0,m,tstep,v0x,v0y)\n",
    "            x0+=v0x*tstep\n",
    "            y0+= v0y*tstep\n",
    "            xs.append(x0)\n",
    "            ys.append(y0)\n",
    "            thetas.append(theta)\n",
    "\n",
    "            #creating a tail for the planet trajectory\n",
    "            if len(xs) > 10:\n",
    "                xs1 = xs[-10:-1]\n",
    "                ys1 = ys[-10:-1]\n",
    "                c1 = np.array([i for i in range(len(xs1))])\n",
    "            else:\n",
    "                xs1 = xs\n",
    "                ys1 = ys\n",
    "                c1 = np.array([i for i in range(len(xs1))])\n",
    "\n",
    "\n",
    "            fig = plt.figure(figsize = (12,7))\n",
    "            plt.scatter(xs1,ys1,s = 3*c1, c = c1, cmap = 'Reds')\n",
    "            plt.scatter(0,0,c=\"blue\", s=100)\n",
    "            plt.title('Planet orbiting')\n",
    "            plt.xlim(-500,500)\n",
    "            plt.ylim(-500,500)\n",
    "\n",
    "            time.sleep(0.2)\n",
    "            clear_output(wait=True) # Clear output for dynamic display\n",
    "            display()            # Reset display\n",
    "            plt.show()\n",
    "            fig.clear()             # Prevent overlapping and layered plots\n",
    "            plt.close();\n"
   ]
  },
  {
   "cell_type": "code",
   "execution_count": 5,
   "metadata": {},
   "outputs": [
    {
     "data": {
      "text/plain": [
       "{'x': -50, 'y': 50, 'v_x': 1, 'v_y': 1, 'mass': 200, 'n_iter': 100, 'tstep': 8}"
      ]
     },
     "execution_count": 5,
     "metadata": {},
     "output_type": "execute_result"
    }
   ],
   "source": [
    "p1=planet(x0=-50, y0=50, v0x=1, v0y=1, m=200, n_iter=100, tstep=8)\n",
    "p1.__dict__ "
   ]
  },
  {
   "cell_type": "code",
   "execution_count": 6,
   "metadata": {},
   "outputs": [
    {
     "data": {
      "image/png": "[encoded data removed]",
      "text/plain": [
       "<Figure size 864x504 with 1 Axes>"
      ]
     },
     "metadata": {},
     "output_type": "display_data"
    }
   ],
   "source": [
    "p1.orbit()"
   ]
  },
  {
   "cell_type": "code",
   "execution_count": 10,
   "metadata": {},
   "outputs": [
    {
     "data": {
      "text/plain": [
       "{'x': 50, 'y': -50, 'v_x': 1, 'v_y': 1, 'mass': 300, 'n_iter': 100, 'tstep': 8}"
      ]
     },
     "execution_count": 10,
     "metadata": {},
     "output_type": "execute_result"
    }
   ],
   "source": [
    "p2=planet(x0=50, y0=-50, v0x=1, v0y=1, m=300, n_iter=100, tstep=8)\n",
    "p2.__dict__ "
   ]
  },
  {
   "cell_type": "code",
   "execution_count": 11,
   "metadata": {},
   "outputs": [
    {
     "data": {
      "image/png": "[encoded data removed]",
      "text/plain": [
       "<Figure size 864x504 with 1 Axes>"
      ]
     },
     "metadata": {},
     "output_type": "display_data"
    }
   ],
   "source": [
    "p2.orbit()"
   ]
  },
  {
   "cell_type": "code",
   "execution_count": null,
   "metadata": {},
   "outputs": [],
   "source": []
  },
  {
   "cell_type": "code",
   "execution_count": null,
   "metadata": {},
   "outputs": [],
   "source": []
  }
 ],
 "metadata": {
  "kernelspec": {
   "display_name": "Python 3",
   "language": "python",
   "name": "python3"
  },
  "language_info": {
   "codemirror_mode": {
    "name": "ipython",
    "version": 3
   },
   "file_extension": ".py",
   "mimetype": "text/x-python",
   "name": "python",
   "nbconvert_exporter": "python",
   "pygments_lexer": "ipython3",
   "version": "3.6.5"
  }
 },
 "nbformat": 4,
 "nbformat_minor": 2
}
