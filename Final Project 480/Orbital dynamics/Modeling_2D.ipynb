{
 "cells": [
  {
   "cell_type": "markdown",
   "metadata": {},
   "source": [
    "### <p style=\"text-align: right;\"> Lucas Jose Chaves Hossi"
   ]
  },
  {
   "cell_type": "markdown",
   "metadata": {},
   "source": [
    "# <p style=\"text-align: center;\">Gravity & Orbital Dynamics"
   ]
  },
  {
   "cell_type": "markdown",
   "metadata": {},
   "source": [
    "<font color=\"red\">   </font>\n",
    "Gravitation is the mutual attraction of all masses in the universe. Since its effect decreases in proportion to distance squared, it never quite disappears completely. Because of this, it applies, to some extent, regardless of the sizes of the masses or their distance apart.\n",
    "\n",
    "Newton's first law describes how, once in motion, planets remain in motion. What it does not do is explain how the planets are observed to move in nearly circular orbits rather than straight lines. Enter the second law. To move in a curved path, a planet must have an acceleration toward the center of the circle. This is called centripetal acceleration and is supplied by the mutual gravitational attraction between the sun and the planet.\n",
    "\n",
    "\n",
    "Kepler's Laws\n",
    "- Johannes Kepler's laws of planetary motion are:\n",
    "    - The orbit of every planet is an ellipse with the Sun at one of the two foci.\n",
    "    - A line joining a planet and the Sun sweeps out equal areas during equal intervals of time.\n",
    "    - The square of the orbital period of a planet is directly proportional to the cube of the semi-major axis of its orbit.\n",
    "\n"
   ]
  },
  {
   "cell_type": "markdown",
   "metadata": {},
   "source": [
    "Gravity as we know, is the force attraction between two or more. the Gravitational force is proportional to the distance squared between the object and is the force responsible of keeping all the planns in orbit to the sun.\n",
    "\n",
    "Gravity's range is infinite but its effects are weaker on distant objects  \n",
    "\n",
    "Gravity is the weakest of the four fundamental forces of physics, approximately 10^38 times weaker than the strong force, 10^36 times weaker than the electromagnetic force and 10^29 times weaker than the weak force. As a consequence, it has no significant influence at the level of subatomic particles. In contrast, it is the dominant force at the macroscopic scale, and is the cause of the formation, shape and trajectory (orbit) of astronomical bodies."
   ]
  },
  {
   "cell_type": "code",
   "execution_count": 1,
   "metadata": {},
   "outputs": [],
   "source": [
    "from Class_implementation_2D import *\n",
    "import matplotlib.pyplot as plt\n",
    "import pandas as pd\n",
    "\n",
    "%matplotlib inline\n"
   ]
  },
  {
   "cell_type": "code",
   "execution_count": 2,
   "metadata": {},
   "outputs": [],
   "source": [
    "# Initial conditions,\n",
    "\n",
    "x_initial=100                 #  m\n",
    "y_initial=-50                 #  m\n",
    "vx_initial=1.2                #  m/s\n",
    "vy_initial=1                  #  m/s\n",
    "N_iter=100\n",
    "time_step=5\n",
    "m=0.9                 #  Kg\n",
    "M=300                 #  Kg\n",
    "    \n",
    "\n",
    "G=1                # Gravitational constant m^3/(Kg*s^2)\n",
    "μ=G*(M+m)\n"
   ]
  },
  {
   "cell_type": "code",
   "execution_count": 3,
   "metadata": {},
   "outputs": [
    {
     "data": {
      "image/png": "[encoded data removed]",
      "text/plain": [
       "<Figure size 864x504 with 1 Axes>"
      ]
     },
     "metadata": {},
     "output_type": "display_data"
    }
   ],
   "source": [
    "p1=planet(x0=x_initial, y0=y_initial, v0x=vx_initial, v0y=vy_initial, m=m, M=M, G=G, n_iter=N_iter, tstep=time_step)\n",
    "values=p1.orbit()"
   ]
  },
  {
   "cell_type": "code",
   "execution_count": 4,
   "metadata": {},
   "outputs": [
    {
     "data": {
      "text/html": [
       "<div>\n",
       "<table border=\"1\" class=\"dataframe\">\n",
       "  <thead>\n",
       "    <tr style=\"text-align: right;\">\n",
       "      <th></th>\n",
       "      <th>Theta</th>\n",
       "      <th>X_pos</th>\n",
       "      <th>Y_pos</th>\n",
       "      <th>r</th>\n",
       "    </tr>\n",
       "  </thead>\n",
       "  <tbody>\n",
       "    <tr>\n",
       "      <th>0</th>\n",
       "      <td>-0.463648</td>\n",
       "      <td>100.000000</td>\n",
       "      <td>-50.000000</td>\n",
       "      <td>111.803399</td>\n",
       "    </tr>\n",
       "    <tr>\n",
       "      <th>1</th>\n",
       "      <td>-0.401178</td>\n",
       "      <td>105.517009</td>\n",
       "      <td>-44.758505</td>\n",
       "      <td>114.617464</td>\n",
       "    </tr>\n",
       "    <tr>\n",
       "      <th>2</th>\n",
       "      <td>-0.341662</td>\n",
       "      <td>110.561005</td>\n",
       "      <td>-39.316365</td>\n",
       "      <td>117.343565</td>\n",
       "    </tr>\n",
       "    <tr>\n",
       "      <th>3</th>\n",
       "      <td>-0.284807</td>\n",
       "      <td>115.143122</td>\n",
       "      <td>-33.709978</td>\n",
       "      <td>119.976252</td>\n",
       "    </tr>\n",
       "    <tr>\n",
       "      <th>4</th>\n",
       "      <td>-0.230352</td>\n",
       "      <td>119.275193</td>\n",
       "      <td>-27.971832</td>\n",
       "      <td>122.511204</td>\n",
       "    </tr>\n",
       "  </tbody>\n",
       "</table>\n",
       "</div>"
      ],
      "text/plain": [
       "      Theta       X_pos      Y_pos           r\n",
       "0 -0.463648  100.000000 -50.000000  111.803399\n",
       "1 -0.401178  105.517009 -44.758505  114.617464\n",
       "2 -0.341662  110.561005 -39.316365  117.343565\n",
       "3 -0.284807  115.143122 -33.709978  119.976252\n",
       "4 -0.230352  119.275193 -27.971832  122.511204"
      ]
     },
     "execution_count": 4,
     "metadata": {},
     "output_type": "execute_result"
    }
   ],
   "source": [
    "#Creating a dataframe for our data\n",
    "\n",
    "Data= {'X_pos': np.array(values[0][0:N_iter]), 'Y_pos': np.array(values[1][0:N_iter]), 'Theta': np.array(values[2][0:N_iter]),\n",
    "       'r': np.sqrt((np.array(values[0][0:N_iter])**2+np.array(values[1][0:N_iter])**2))}\n",
    "Formated_data = pd.DataFrame(data=Data)\n",
    "Formated_data.head()                                        # taking a peek at the first entries of the dataset"
   ]
  },
  {
   "cell_type": "code",
   "execution_count": 5,
   "metadata": {},
   "outputs": [],
   "source": [
    "x_pos=Data['X_pos']\n",
    "y_pos=Data['Y_pos']\n",
    "theta=Data['Theta']\n",
    "r=Data['r']"
   ]
  },
  {
   "cell_type": "code",
   "execution_count": null,
   "metadata": {},
   "outputs": [],
   "source": []
  },
  {
   "cell_type": "code",
   "execution_count": 6,
   "metadata": {},
   "outputs": [
    {
     "data": {
      "text/plain": [
       "Text(0,0.5,'y_pos')"
      ]
     },
     "execution_count": 6,
     "metadata": {},
     "output_type": "execute_result"
    },
    {
     "data": {
      "image/png": "[encoded data removed]",
      "text/plain": [
       "<Figure size 864x504 with 1 Axes>"
      ]
     },
     "metadata": {},
     "output_type": "display_data"
    }
   ],
   "source": [
    "# Plotting the full path of the orbiting \"planet\" \n",
    "\n",
    "fig = plt.figure(figsize = (12,7),constrained_layout=True)\n",
    "plt.plot(x_pos,y_pos, label=\"Orbital path\")\n",
    "plt.scatter(x=0,y=0,c=\"r\", s=300, label=\"Central Planet\")\n",
    "\n",
    "plt.title(\"The Orbital path of a 'Planet' \")\n",
    "plt.legend(loc=\"upper right\")\n",
    "plt.xlabel(\"x_pos\")\n",
    "plt.ylabel(\"y_pos\")"
   ]
  },
  {
   "cell_type": "markdown",
   "metadata": {},
   "source": [
    "#### Calculating the foci (focus) of the ellipse"
   ]
  },
  {
   "cell_type": "markdown",
   "metadata": {},
   "source": [
    "\n",
    "\n",
    "Foci (focus points) of an ellipse \n",
    "Two points inside an ellipse that are used in its formal definition. See Ellipse definition. \n",
    "Try this Drag any orange dot. As you reshape the ellipse, note how the two focus points (F1 and F2) move. \n",
    " \n",
    "An ellipse has two focus points. The word foci (pronounced 'foe-sigh') is the plural of 'focus'. One focus, two foci. \n",
    "The foci always lie on the major (longest) axis, spaced equally each side of the center. If the major axis and minor axis are the same length, the figure is a circle and both foci are at the center.\n",
    "\n",
    "https://math.stackexchange.com/questions/2131249/distance-between-two-foci-astronomy\n",
    "http://www.calctool.org/CALC/phys/astronomy/planet_orbit"
   ]
  },
  {
   "cell_type": "code",
   "execution_count": 7,
   "metadata": {},
   "outputs": [
    {
     "name": "stdout",
     "output_type": "stream",
     "text": [
      "The full width of the the ellipse is equal to 220.28 \n",
      "\n",
      "The foci is 40.73 meters from the center\n"
     ]
    }
   ],
   "source": [
    "#Calculating the foci (focus) of the ellipse\n",
    "\n",
    "width_of_ellipse=r.max()+r.min()                                    #calculating the full width of the the ellipse\n",
    "foci=(width_of_ellipse/2)-r.min()                                  #since we know one of the foci is at origin (0,0), then:\n",
    "\n",
    "print(\"The full width of the the ellipse is equal to {:>5.2f} \\n\".format(width_of_ellipse))  \n",
    "print(\"The foci is {:>5.2f} meters from the center\".format(foci))"
   ]
  },
  {
   "cell_type": "code",
   "execution_count": 8,
   "metadata": {},
   "outputs": [
    {
     "name": "stdout",
     "output_type": "stream",
     "text": [
      "\n",
      "The eccentricity of the ellipse is equal to  0.6462384197264968\n",
      "\n",
      "The semi_major_axis is equal to  63.01889965522203  meters\n"
     ]
    }
   ],
   "source": [
    "#Finding the semi_major_axis and eccentricity of the elliptical orbit from the data collected \n",
    "\n",
    "if max(abs(x_pos)) > max(abs(y_pos)):\n",
    "    R=min(x_pos)\n",
    "    semi_major_axis=max(abs(x_pos))-abs(R)\n",
    "    eccentricity=foci/semi_major_axis\n",
    "    \n",
    "else:\n",
    "    R=min(x_pos)\n",
    "    semi_major_axis=max(abs(y_pos))-abs(R)\n",
    "    eccentricity=foci/semi_major_axis\n",
    "    \n",
    "\n",
    "print(\"\\nThe eccentricity of the ellipse is equal to \", eccentricity)\n",
    "print(\"\\nThe semi_major_axis is equal to \", semi_major_axis, \" meters\")"
   ]
  },
  {
   "cell_type": "markdown",
   "metadata": {},
   "source": [
    "### Orbital Period"
   ]
  },
  {
   "cell_type": "code",
   "execution_count": 9,
   "metadata": {},
   "outputs": [
    {
     "name": "stdout",
     "output_type": "stream",
     "text": [
      "The orbital period for this elliptic path is equal to 181.21 s^2 \n",
      "\n"
     ]
    }
   ],
   "source": [
    "# The calculating the orbital period:\n",
    "\n",
    "T=2*np.pi*np.sqrt(semi_major_axis**3/μ)\n",
    "print(\"The orbital period for this elliptic path is equal to {:>5.2f} s^2 \\n\".format(T))"
   ]
  },
  {
   "cell_type": "markdown",
   "metadata": {},
   "source": [
    "### Total Energy\n",
    "So the total energy is always negative. In the same way that electrons in an atom are bound to their nucleus, we can say that a planet is bound to the sun. It's energy is negative so it doesn't have enough energy to escape to infinity. \n",
    "\n",
    "But what if the energy were positive? In that case the trajectories are no longer elliptical, and instead you get hyperbolic orbits! The object comes in from inter-stellar space (as they say on star trek) almost going in a straight line, and then cruises around the sun and is finally deflected in a straight line off into never-never land, never to be seen by us again! \n",
    "\n",
    "\n",
    "Considering 2D motion:\n",
    "- If the total energy is positive, the particle's trajectory is a hyperbola.\n",
    "- If the total energy is zero, the particle's trajectory is a parabola.\n",
    "- If the total energy is negative, the particle's trajectory is an ellipse."
   ]
  },
  {
   "cell_type": "code",
   "execution_count": 10,
   "metadata": {},
   "outputs": [
    {
     "name": "stdout",
     "output_type": "stream",
     "text": [
      "The orbiting planet as a velocity of  2.19 m/s \n",
      "\n",
      "The total Energy of the orbiting planet is: \n",
      " -2.1422144902336977\n"
     ]
    }
   ],
   "source": [
    "# The velocity is given by,  (m/s)\n",
    "v=np.sqrt(μ/semi_major_axis)\n",
    "print(\"The orbiting planet as a velocity of {:>5.2f} m/s \\n\".format(v))\n",
    "\n",
    "# The Total Energy is given by,\n",
    "E=(-G*M*m)/(2*semi_major_axis)\n",
    "print(\"The total Energy of the orbiting planet is: \\n {}\".format(E))"
   ]
  },
  {
   "cell_type": "markdown",
   "metadata": {},
   "source": [
    "## Trying Scattering"
   ]
  },
  {
   "cell_type": "code",
   "execution_count": 11,
   "metadata": {},
   "outputs": [],
   "source": [
    "# Initial conditions, scater at 2\n",
    "\n",
    "x_initial=50\n",
    "y_initial=-50\n",
    "vx_initial=1.2\n",
    "vy_initial=1\n",
    "N_iter=50\n",
    "time_step=5\n",
    "m=5.9722*10**(24)                #  Kg\n",
    "M=5.9722*10**(24)                 #  Kg\n",
    "    \n",
    "\n",
    "G=1                  # Gravitational constant m^3/(Kg*s^2)\n",
    "μ=G*M"
   ]
  },
  {
   "cell_type": "code",
   "execution_count": 12,
   "metadata": {},
   "outputs": [
    {
     "data": {
      "image/png": "[encoded data removed]",
      "text/plain": [
       "<Figure size 864x504 with 1 Axes>"
      ]
     },
     "metadata": {},
     "output_type": "display_data"
    }
   ],
   "source": [
    "p2=planet(x0=x_initial, y0=y_initial, v0x=vx_initial, v0y=vy_initial, m=m, M=M, G=G, n_iter=N_iter, tstep=time_step)\n",
    "values=p2.orbit()"
   ]
  },
  {
   "cell_type": "code",
   "execution_count": 14,
   "metadata": {},
   "outputs": [
    {
     "data": {
      "text/html": [
       "<div>\n",
       "<table border=\"1\" class=\"dataframe\">\n",
       "  <thead>\n",
       "    <tr style=\"text-align: right;\">\n",
       "      <th></th>\n",
       "      <th>Theta</th>\n",
       "      <th>X_pos</th>\n",
       "      <th>Y_pos</th>\n",
       "    </tr>\n",
       "  </thead>\n",
       "  <tbody>\n",
       "    <tr>\n",
       "      <th>0</th>\n",
       "      <td>-0.785398</td>\n",
       "      <td>5.000000e+01</td>\n",
       "      <td>-5.000000e+01</td>\n",
       "    </tr>\n",
       "    <tr>\n",
       "      <th>1</th>\n",
       "      <td>2.356194</td>\n",
       "      <td>-1.261025e+47</td>\n",
       "      <td>1.261025e+47</td>\n",
       "    </tr>\n",
       "    <tr>\n",
       "      <th>2</th>\n",
       "      <td>2.356194</td>\n",
       "      <td>-2.522050e+47</td>\n",
       "      <td>2.522050e+47</td>\n",
       "    </tr>\n",
       "    <tr>\n",
       "      <th>3</th>\n",
       "      <td>2.356194</td>\n",
       "      <td>-3.783075e+47</td>\n",
       "      <td>3.783075e+47</td>\n",
       "    </tr>\n",
       "    <tr>\n",
       "      <th>4</th>\n",
       "      <td>2.356194</td>\n",
       "      <td>-5.044100e+47</td>\n",
       "      <td>5.044100e+47</td>\n",
       "    </tr>\n",
       "  </tbody>\n",
       "</table>\n",
       "</div>"
      ],
      "text/plain": [
       "      Theta         X_pos         Y_pos\n",
       "0 -0.785398  5.000000e+01 -5.000000e+01\n",
       "1  2.356194 -1.261025e+47  1.261025e+47\n",
       "2  2.356194 -2.522050e+47  2.522050e+47\n",
       "3  2.356194 -3.783075e+47  3.783075e+47\n",
       "4  2.356194 -5.044100e+47  5.044100e+47"
      ]
     },
     "execution_count": 14,
     "metadata": {},
     "output_type": "execute_result"
    }
   ],
   "source": [
    "Data= {'X_pos': values[0][0:N_iter], 'Y_pos': values[1][0:N_iter], 'Theta': values[2][0:N_iter]}\n",
    "Formated_data = pd.DataFrame(data=Data)\n",
    "Formated_data.head()"
   ]
  },
  {
   "cell_type": "code",
   "execution_count": 15,
   "metadata": {},
   "outputs": [],
   "source": [
    "x_pos=np.array(values[0][0:N_iter])\n",
    "y_pos=np.array(values[1][0:N_iter])\n",
    "theta=np.array(values[2][0:N_iter])"
   ]
  },
  {
   "cell_type": "code",
   "execution_count": 16,
   "metadata": {},
   "outputs": [
    {
     "data": {
      "text/plain": [
       "0.0"
      ]
     },
     "execution_count": 16,
     "metadata": {},
     "output_type": "execute_result"
    }
   ],
   "source": [
    "foci=np.sqrt(max(abs(x_pos))**2-max(abs(y_pos))**2)\n",
    "foci"
   ]
  },
  {
   "cell_type": "code",
   "execution_count": 17,
   "metadata": {},
   "outputs": [
    {
     "name": "stdout",
     "output_type": "stream",
     "text": [
      "\n",
      "The eccentricity of the ellipse is equal to  0.0\n",
      "\n",
      "The semi_major_axis is equal to  6.179022446324575e+48\n"
     ]
    }
   ],
   "source": [
    "if max(abs(x_pos)) > max(abs(y_pos)):\n",
    "    semi_major_axis=max(abs(x_pos))\n",
    "    eccentricity=foci/semi_major_axis\n",
    "    \n",
    "else:\n",
    "    semi_major_axis=max(abs(y_pos))\n",
    "    eccentricity=foci/semi_major_axis\n",
    "    \n",
    "\n",
    "print(\"\\nThe eccentricity of the ellipse is equal to \", eccentricity)\n",
    "print(\"\\nThe semi_major_axis is equal to \", semi_major_axis)"
   ]
  },
  {
   "cell_type": "code",
   "execution_count": 18,
   "metadata": {},
   "outputs": [
    {
     "data": {
      "text/plain": [
       "3.949047486499927e+61"
      ]
     },
     "execution_count": 18,
     "metadata": {},
     "output_type": "execute_result"
    }
   ],
   "source": [
    "# The orbital period is given by:\n",
    "\n",
    "T=2*np.pi*np.sqrt(semi_major_axis**3/μ)\n",
    "T"
   ]
  },
  {
   "cell_type": "code",
   "execution_count": 19,
   "metadata": {},
   "outputs": [
    {
     "data": {
      "text/plain": [
       "-2.886150127292033"
      ]
     },
     "execution_count": 19,
     "metadata": {},
     "output_type": "execute_result"
    }
   ],
   "source": [
    "# The Energy in terms of the semi_major_axis is given by,\n",
    "\n",
    "E=(-G*M*m)/(2*semi_major_axis)\n",
    "E"
   ]
  },
  {
   "cell_type": "code",
   "execution_count": 20,
   "metadata": {},
   "outputs": [
    {
     "data": {
      "text/plain": [
       "9.831217066951354e-13"
      ]
     },
     "execution_count": 20,
     "metadata": {},
     "output_type": "execute_result"
    }
   ],
   "source": [
    "v=np.sqrt(μ/semi_major_axis)\n",
    "v"
   ]
  },
  {
   "cell_type": "markdown",
   "metadata": {},
   "source": [
    "### TRYING"
   ]
  },
  {
   "cell_type": "code",
   "execution_count": 21,
   "metadata": {},
   "outputs": [],
   "source": [
    "# Initial conditions\n",
    "\n",
    "x_initial=3.7*10**(8)\n",
    "y_initial=1*10**(8)\n",
    "vx_initial=0.3*10**(3)\n",
    "vy_initial=0.95*10**(3)\n",
    "N_iter=10\n",
    "time_step=20\n",
    "m=5.9722*10**(24)                 #  Kg\n",
    "M=1.024*10**(26)                 #  Kg\n",
    "    \n",
    "\n",
    "G=6.674*10**(-11)                  # m^3/(Kg*s^2)\n",
    "μ=G*M"
   ]
  },
  {
   "cell_type": "code",
   "execution_count": 22,
   "metadata": {},
   "outputs": [
    {
     "ename": "TypeError",
     "evalue": "__init__() missing 1 required positional argument: 'G'",
     "output_type": "error",
     "traceback": [
      "\u001b[0;31m---------------------------------------------------------------------------\u001b[0m",
      "\u001b[0;31mTypeError\u001b[0m                                 Traceback (most recent call last)",
      "\u001b[0;32m<ipython-input-22-227ea5157e3d>\u001b[0m in \u001b[0;36m<module>\u001b[0;34m()\u001b[0m\n\u001b[0;32m----> 1\u001b[0;31m \u001b[0mp1\u001b[0m\u001b[0;34m=\u001b[0m\u001b[0mplanet\u001b[0m\u001b[0;34m(\u001b[0m\u001b[0mx0\u001b[0m\u001b[0;34m=\u001b[0m\u001b[0mx_initial\u001b[0m\u001b[0;34m,\u001b[0m \u001b[0my0\u001b[0m\u001b[0;34m=\u001b[0m\u001b[0my_initial\u001b[0m\u001b[0;34m,\u001b[0m \u001b[0mv0x\u001b[0m\u001b[0;34m=\u001b[0m\u001b[0mvx_initial\u001b[0m\u001b[0;34m,\u001b[0m \u001b[0mv0y\u001b[0m\u001b[0;34m=\u001b[0m\u001b[0mvy_initial\u001b[0m\u001b[0;34m,\u001b[0m \u001b[0mm\u001b[0m\u001b[0;34m=\u001b[0m\u001b[0mm\u001b[0m\u001b[0;34m,\u001b[0m \u001b[0mM\u001b[0m\u001b[0;34m=\u001b[0m\u001b[0mM\u001b[0m\u001b[0;34m,\u001b[0m \u001b[0mn_iter\u001b[0m\u001b[0;34m=\u001b[0m\u001b[0mN_iter\u001b[0m\u001b[0;34m,\u001b[0m \u001b[0mtstep\u001b[0m\u001b[0;34m=\u001b[0m\u001b[0mtime_step\u001b[0m\u001b[0;34m)\u001b[0m\u001b[0;34m\u001b[0m\u001b[0m\n\u001b[0m\u001b[1;32m      2\u001b[0m \u001b[0mvalues\u001b[0m\u001b[0;34m=\u001b[0m\u001b[0mp1\u001b[0m\u001b[0;34m.\u001b[0m\u001b[0morbit\u001b[0m\u001b[0;34m(\u001b[0m\u001b[0;34m)\u001b[0m\u001b[0;34m\u001b[0m\u001b[0m\n",
      "\u001b[0;31mTypeError\u001b[0m: __init__() missing 1 required positional argument: 'G'"
     ]
    }
   ],
   "source": [
    "p1=planet(x0=x_initial, y0=y_initial, v0x=vx_initial, v0y=vy_initial, m=m, M=M, n_iter=N_iter, tstep=time_step)\n",
    "values=p1.orbit()"
   ]
  },
  {
   "cell_type": "code",
   "execution_count": null,
   "metadata": {},
   "outputs": [],
   "source": []
  }
 ],
 "metadata": {
  "kernelspec": {
   "display_name": "Python 3",
   "language": "python",
   "name": "python3"
  },
  "language_info": {
   "codemirror_mode": {
    "name": "ipython",
    "version": 3
   },
   "file_extension": ".py",
   "mimetype": "text/x-python",
   "name": "python",
   "nbconvert_exporter": "python",
   "pygments_lexer": "ipython3",
   "version": "3.6.5"
  }
 },
 "nbformat": 4,
 "nbformat_minor": 2
}
